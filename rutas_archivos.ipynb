{
 "cells": [
  {
   "cell_type": "code",
   "execution_count": 1,
   "id": "d12b9749-f386-42e5-ab4b-1704f2b8bb75",
   "metadata": {},
   "outputs": [],
   "source": [
    "import pandas as pd\n",
    "import re\n",
    "import os"
   ]
  },
  {
   "cell_type": "code",
   "execution_count": 4,
   "id": "3100f068-5965-4ffa-9042-bfa108a31fde",
   "metadata": {},
   "outputs": [],
   "source": [
    "años = [2019, 2020, 2021, 2022]\n",
    "    \n",
    "lista_archivos = list()\n",
    "\n",
    "contador = 0\n",
    "for i in años:\n",
    "    archivo = \"hra_\"+str(i)\n",
    "    ruta =  \"/Users/alvaro/Documents/Data_Science/datasets/atenciones_urgencias/\"+archivo\n",
    "    archivos = os.listdir(ruta)\n",
    "    archivos.sort()\n",
    "    lista_archivos.append(archivos)\n",
    "    contador += 1"
   ]
  },
  {
   "cell_type": "code",
   "execution_count": 6,
   "id": "8a57f3d3-4945-4265-a815-66b8437a5720",
   "metadata": {},
   "outputs": [],
   "source": [
    "ruta =  \"/Users/alvaro/Documents/Data_Science/datasets/atenciones_urgencias\""
   ]
  },
  {
   "cell_type": "code",
   "execution_count": 8,
   "id": "7b79c048-1cc2-4499-bd50-f35353871ce8",
   "metadata": {},
   "outputs": [],
   "source": [
    "archivos = os.listdir(ruta)"
   ]
  },
  {
   "cell_type": "code",
   "execution_count": 9,
   "id": "63bfcd69-aa95-49e1-a816-680eac6bfcef",
   "metadata": {},
   "outputs": [
    {
     "data": {
      "text/plain": [
       "['sapu_rendic_2020',\n",
       " 'sapu_con_2021',\n",
       " 'sapu_con_2019',\n",
       " 'sapu_corvallis_2022',\n",
       " 'sapu_con_2020',\n",
       " 'sapu_rendic_2021',\n",
       " 'sapu_rendic_2019',\n",
       " '.DS_Store',\n",
       " 'hmej_2022',\n",
       " 'hra_2019',\n",
       " 'sapu_centro_sur_2022',\n",
       " 'hcc_2020',\n",
       " 'hra_2021',\n",
       " 'sapu_juan_pablo_2022',\n",
       " 'sapu_centro_norte_2022',\n",
       " 'hra_2020',\n",
       " 'hcc_2021',\n",
       " 'hcc_2019',\n",
       " 'sapu_oriente_2021',\n",
       " 'sapu_oriente_2019',\n",
       " 'sapu_oriente_2020',\n",
       " 'sapu_con_2022',\n",
       " 'sapu_corvallis_2020',\n",
       " 'sapu_rendic_2022',\n",
       " 'sapu_corvallis_2019',\n",
       " 'sapu_corvallis_2021',\n",
       " 'sapu_centro_sur_2019',\n",
       " 'hra_2022',\n",
       " 'sapu_centro_sur_2021',\n",
       " 'sapu_centro_norte_2020',\n",
       " 'hmej_2021',\n",
       " 'hmej_2019',\n",
       " 'sapu_juan_pablo_2020',\n",
       " 'sapu_centro_sur_2020',\n",
       " 'hcc_2022',\n",
       " 'sapu_juan_pablo_2021',\n",
       " 'sapu_juan_pablo_2019',\n",
       " 'hmej_2020',\n",
       " 'sapu_centro_norte_2021',\n",
       " 'sapu_centro_norte_2019',\n",
       " 'sapu_oriente_2022']"
      ]
     },
     "execution_count": 9,
     "metadata": {},
     "output_type": "execute_result"
    }
   ],
   "source": [
    "for i in archivos:\n",
    "    pre_ruta = \"/Users/alvaro/Documents/Data_Science/datasets/atenciones_urgencias/\"\n",
    "    ruta = pre_ruta + archivos\n",
    "    "
   ]
  },
  {
   "cell_type": "code",
   "execution_count": null,
   "id": "e1c43472-ad6b-49cf-8b73-299800632371",
   "metadata": {},
   "outputs": [],
   "source": []
  },
  {
   "cell_type": "code",
   "execution_count": null,
   "id": "4f1370e5-84f1-4617-8cfb-303302815ddd",
   "metadata": {},
   "outputs": [],
   "source": []
  },
  {
   "cell_type": "code",
   "execution_count": null,
   "id": "105e32de-d79f-47c6-8ec2-119d95929fdc",
   "metadata": {},
   "outputs": [],
   "source": []
  }
 ],
 "metadata": {
  "kernelspec": {
   "display_name": "Python 3 (ipykernel)",
   "language": "python",
   "name": "python3"
  },
  "language_info": {
   "codemirror_mode": {
    "name": "ipython",
    "version": 3
   },
   "file_extension": ".py",
   "mimetype": "text/x-python",
   "name": "python",
   "nbconvert_exporter": "python",
   "pygments_lexer": "ipython3",
   "version": "3.9.7"
  }
 },
 "nbformat": 4,
 "nbformat_minor": 5
}
